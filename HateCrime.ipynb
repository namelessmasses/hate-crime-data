{
 "cells": [
  {
   "cell_type": "markdown",
   "id": "e1f76425",
   "metadata": {},
   "source": [
    "# See README.md to obtain FBI Hate Crime Statistics data."
   ]
  },
  {
   "cell_type": "code",
   "execution_count": 1,
   "id": "5118d6c1-416f-4955-b62d-c6446a8e97e2",
   "metadata": {},
   "outputs": [],
   "source": [
    "import pandas\n",
    "hc = pandas.read_csv('hate_crime_expanded.csv')"
   ]
  },
  {
   "cell_type": "markdown",
   "id": "7331004f",
   "metadata": {},
   "source": [
    "Run consistency checks"
   ]
  },
  {
   "cell_type": "code",
   "execution_count": 2,
   "id": "1b3e8755-ae79-4f55-aee7-fb0b55d3d0e6",
   "metadata": {},
   "outputs": [
    {
     "name": "stdout",
     "output_type": "stream",
     "text": [
      "Consistency checks: Passed\n"
     ]
    }
   ],
   "source": [
    "groupby_incident = hc.groupby('incident_id')[['incident_id']].size()\n",
    "multiple_expanded_rows = groupby_incident[groupby_incident > 1]\n",
    "original = pandas.read_csv('hate_crime/hate_crime.csv')\n",
    "n_original = len(original)\n",
    "del original\n",
    "if len(hc) - sum(multiple_expanded_rows) + len(multiple_expanded_rows) != n_original:\n",
    "    raise ValueError('Consistency check failed: {} - {} + {} != {}'.format(len(hc), sum(multiple_expanded_rows), len(multiple_expanded_rows), n_original))\n",
    "else:\n",
    "    print('Consistency checks: Passed')"
   ]
  },
  {
   "cell_type": "code",
   "execution_count": null,
   "id": "a615f96b",
   "metadata": {},
   "outputs": [],
   "source": []
  }
 ],
 "metadata": {
  "kernelspec": {
   "display_name": "Python 3 (ipykernel)",
   "language": "python",
   "name": "python3"
  },
  "language_info": {
   "codemirror_mode": {
    "name": "ipython",
    "version": 3
   },
   "file_extension": ".py",
   "mimetype": "text/x-python",
   "name": "python",
   "nbconvert_exporter": "python",
   "pygments_lexer": "ipython3",
   "version": "3.12.4"
  }
 },
 "nbformat": 4,
 "nbformat_minor": 5
}
